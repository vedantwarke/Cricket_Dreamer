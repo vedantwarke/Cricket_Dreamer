{
  "cells": [
    {
      "cell_type": "markdown",
      "source": [
        "#Imports"
      ],
      "metadata": {
        "id": "0k4fVSaMH8Yh"
      }
    },
    {
      "cell_type": "code",
      "execution_count": null,
      "metadata": {
        "id": "92zfDh2cL6gy"
      },
      "outputs": [],
      "source": [
        "import pandas\n",
        "import numpy\n",
        "import seaborn\n",
        "import matplotlib.pyplot\n",
        "from sklearn.model_selection import train_test_split\n",
        "from sklearn.ensemble import RandomForestClassifier\n",
        "from sklearn.metrics import accuracy_score"
      ]
    },
    {
      "cell_type": "markdown",
      "source": [
        "#Reading Data from CSV File"
      ],
      "metadata": {
        "id": "wGUq0GeeICK1"
      }
    },
    {
      "cell_type": "code",
      "execution_count": null,
      "metadata": {
        "colab": {
          "base_uri": "https://localhost:8080/"
        },
        "id": "Ynm_7E3bMPtW",
        "outputId": "c6224da4-927c-4bc1-c274-426f181a257b"
      },
      "outputs": [
        {
          "output_type": "execute_result",
          "data": {
            "text/plain": [
              "Index(['ID', 'City', 'Date', 'Season', 'MatchNumber', 'Team1', 'Team2',\n",
              "       'Venue', 'TossWinner', 'TossDecision', 'SuperOver', 'WinningTeam',\n",
              "       'WonBy', 'Margin', 'method', 'Player_of_Match', 'Team1Players',\n",
              "       'Team2Players', 'Umpire1', 'Umpire2'],\n",
              "      dtype='object')"
            ]
          },
          "metadata": {},
          "execution_count": 458
        }
      ],
      "source": [
        "matches: pandas.DataFrame = pandas.read_csv(\"IPL_Matches_2008_2022.csv\")\n",
        "matches.columns"
      ]
    },
    {
      "cell_type": "code",
      "execution_count": null,
      "metadata": {
        "id": "ucAqZhGHDRcp",
        "colab": {
          "base_uri": "https://localhost:8080/"
        },
        "outputId": "a7c691da-3621-4dcc-df73-3d70ec67fe0d"
      },
      "outputs": [
        {
          "output_type": "execute_result",
          "data": {
            "text/plain": [
              "(950, 20)"
            ]
          },
          "metadata": {},
          "execution_count": 459
        }
      ],
      "source": [
        "matches.shape"
      ]
    },
    {
      "cell_type": "markdown",
      "source": [
        "#Preparing Data"
      ],
      "metadata": {
        "id": "b1XPruCoITUA"
      }
    },
    {
      "cell_type": "code",
      "execution_count": null,
      "metadata": {
        "id": "hBbgG3_PMo92"
      },
      "outputs": [],
      "source": [
        "matches_required: pandas.DataFrame = matches"
      ]
    },
    {
      "cell_type": "code",
      "execution_count": null,
      "metadata": {
        "id": "41L7Smv8OZzV",
        "colab": {
          "base_uri": "https://localhost:8080/"
        },
        "outputId": "ed4b7dc6-f166-4bd9-eb24-1041e919a2cb"
      },
      "outputs": [
        {
          "output_type": "execute_result",
          "data": {
            "text/plain": [
              "array(['Rajasthan Royals', 'Royal Challengers Bangalore',\n",
              "       'Sunrisers Hyderabad', 'Delhi Capitals', 'Chennai Super Kings',\n",
              "       'Gujarat Titans', 'Lucknow Super Giants', 'Kolkata Knight Riders',\n",
              "       'Punjab Kings', 'Mumbai Indians', 'Kings XI Punjab',\n",
              "       'Delhi Daredevils', 'Rising Pune Supergiant', 'Gujarat Lions',\n",
              "       'Rising Pune Supergiants', 'Pune Warriors', 'Deccan Chargers',\n",
              "       'Kochi Tuskers Kerala'], dtype=object)"
            ]
          },
          "metadata": {},
          "execution_count": 461
        }
      ],
      "source": [
        "matches_required['Team1'].unique()"
      ]
    },
    {
      "cell_type": "code",
      "execution_count": null,
      "metadata": {
        "id": "IKbw-NcgS0h8",
        "colab": {
          "base_uri": "https://localhost:8080/"
        },
        "outputId": "36c24bb3-4d58-4bc2-d789-d87f9d951d35"
      },
      "outputs": [
        {
          "output_type": "execute_result",
          "data": {
            "text/plain": [
              "array(['Final', 'Qualifier 2', 'Eliminator', 'Qualifier 1', '70', '69',\n",
              "       '68', '67', '66', '65', '64', '63', '62', '61', '60', '59', '58',\n",
              "       '57', '56', '55', '54', '53', '52', '51', '50', '49', '48', '47',\n",
              "       '46', '45', '44', '43', '42', '41', '40', '39', '38', '37', '36',\n",
              "       '35', '34', '33', '32', '31', '30', '29', '28', '27', '26', '25',\n",
              "       '24', '23', '22', '21', '20', '19', '18', '17', '16', '15', '14',\n",
              "       '13', '12', '11', '10', '9', '8', '7', '6', '5', '4', '3', '2',\n",
              "       '1', '72', '71'], dtype=object)"
            ]
          },
          "metadata": {},
          "execution_count": 462
        }
      ],
      "source": [
        "matches_required['MatchNumber'].unique()"
      ]
    },
    {
      "cell_type": "code",
      "execution_count": null,
      "metadata": {
        "id": "unX8rQ2DPWcd"
      },
      "outputs": [],
      "source": [
        "matches_required.replace('Deccan Chargers','Sunrisers Hyderabad',inplace=True)\n",
        "matches_required.replace('Kings XI Punjab','Punjab Kings',inplace=True)\n",
        "matches_required.replace('Delhi Daredevils','Delhi Capitals',inplace=True)\n",
        "matches_required.replace('Qualifier 2','102',inplace=True)\n",
        "matches_required.replace('Qualifier 1','100',inplace=True)\n",
        "matches_required.replace('Eliminator','101',inplace=True)\n",
        "matches_required.replace('Final','103',inplace=True)"
      ]
    },
    {
      "cell_type": "code",
      "source": [
        "matches_required.replace('Arun Jaitley Stadium, Delhi','Arun Jaitley Stadium', inplace = True)\n",
        "matches_required.replace('Brabourne Stadium, Mumbai','Brabourne Stadium', inplace = True)\n",
        "matches_required.replace('Dr DY Patil Sports Academy, Mumbai','Dr DY Patil Sports Academy', inplace = True)\n",
        "matches_required.replace('Eden Gardens, Kolkata','Eden Gardens', inplace = True)\n",
        "matches_required.replace('Feroz Shah Kotla','Arun Jaitley Stadium', inplace = True)\n",
        "matches_required.replace('M.Chinnaswamy Stadium','M Chinnaswamy Stadium', inplace = True)\n",
        "matches_required.replace('MA Chidambaram Stadium, Chepauk, Chennai','MA Chidambaram Stadium', inplace = True)\n",
        "matches_required.replace('MA Chidambaram Stadium, Chepauk','MA Chidambaram Stadium', inplace = True)\n",
        "matches_required.replace('Maharashtra Cricket Association Stadium, Pune','Maharashtra Cricket Association Stadium', inplace = True)\n",
        "matches_required.replace('Punjab Cricket Association IS Bindra Stadium','Punjab Cricket Association Stadium', inplace = True)\n",
        "matches_required.replace('Punjab Cricket Association IS Bindra Stadium, Mohali','Punjab Cricket Association Stadium', inplace = True)\n",
        "matches_required.replace('Punjab Cricket Association Stadium, Mohali','Punjab Cricket Association Stadium', inplace = True)\n",
        "matches_required.replace('Rajiv Gandhi International Stadium, Uppal','Rajiv Gandhi International Stadium', inplace = True)\n",
        "matches_required.replace('Wankhede Stadium, Mumbai','Wankhede Stadium', inplace = True)"
      ],
      "metadata": {
        "id": "mpptleZQ0vXe"
      },
      "execution_count": null,
      "outputs": []
    },
    {
      "cell_type": "code",
      "source": [
        "matches_required.columns"
      ],
      "metadata": {
        "id": "3EZG_0771qtI",
        "colab": {
          "base_uri": "https://localhost:8080/"
        },
        "outputId": "e61060dc-1271-48c5-b2f4-b72267aa4380"
      },
      "execution_count": null,
      "outputs": [
        {
          "output_type": "execute_result",
          "data": {
            "text/plain": [
              "Index(['ID', 'City', 'Date', 'Season', 'MatchNumber', 'Team1', 'Team2',\n",
              "       'Venue', 'TossWinner', 'TossDecision', 'SuperOver', 'WinningTeam',\n",
              "       'WonBy', 'Margin', 'method', 'Player_of_Match', 'Team1Players',\n",
              "       'Team2Players', 'Umpire1', 'Umpire2'],\n",
              "      dtype='object')"
            ]
          },
          "metadata": {},
          "execution_count": 465
        }
      ]
    },
    {
      "cell_type": "code",
      "source": [
        "matches_required['Venue'].unique()"
      ],
      "metadata": {
        "id": "jlTiujpT1aQ-",
        "colab": {
          "base_uri": "https://localhost:8080/"
        },
        "outputId": "f086d5c1-e7a8-4d2f-f6eb-e34d07c945e1"
      },
      "execution_count": null,
      "outputs": [
        {
          "output_type": "execute_result",
          "data": {
            "text/plain": [
              "array(['Narendra Modi Stadium, Ahmedabad', 'Eden Gardens',\n",
              "       'Wankhede Stadium', 'Brabourne Stadium',\n",
              "       'Dr DY Patil Sports Academy',\n",
              "       'Maharashtra Cricket Association Stadium',\n",
              "       'Dubai International Cricket Stadium', 'Sharjah Cricket Stadium',\n",
              "       'Zayed Cricket Stadium, Abu Dhabi', 'Arun Jaitley Stadium',\n",
              "       'MA Chidambaram Stadium', 'Sheikh Zayed Stadium',\n",
              "       'Rajiv Gandhi International Stadium',\n",
              "       'Dr. Y.S. Rajasekhara Reddy ACA-VDCA Cricket Stadium',\n",
              "       'Punjab Cricket Association Stadium', 'M Chinnaswamy Stadium',\n",
              "       'Sawai Mansingh Stadium', 'Holkar Cricket Stadium', 'Green Park',\n",
              "       'Saurashtra Cricket Association Stadium',\n",
              "       'Shaheed Veer Narayan Singh International Stadium',\n",
              "       'JSCA International Stadium Complex',\n",
              "       'Sardar Patel Stadium, Motera', 'Barabati Stadium',\n",
              "       'Subrata Roy Sahara Stadium',\n",
              "       'Himachal Pradesh Cricket Association Stadium', 'Nehru Stadium',\n",
              "       'Vidarbha Cricket Association Stadium, Jamtha',\n",
              "       'New Wanderers Stadium', 'SuperSport Park', 'Kingsmead',\n",
              "       'OUTsurance Oval', \"St George's Park\", 'De Beers Diamond Oval',\n",
              "       'Buffalo Park', 'Newlands'], dtype=object)"
            ]
          },
          "metadata": {},
          "execution_count": 466
        }
      ]
    },
    {
      "cell_type": "code",
      "source": [
        "matches_required.shape"
      ],
      "metadata": {
        "id": "qyrzAJ2zL6p-",
        "colab": {
          "base_uri": "https://localhost:8080/"
        },
        "outputId": "100ac1af-aa9c-449a-8cc4-f3ac3ea1ebb7"
      },
      "execution_count": null,
      "outputs": [
        {
          "output_type": "execute_result",
          "data": {
            "text/plain": [
              "(950, 20)"
            ]
          },
          "metadata": {},
          "execution_count": 467
        }
      ]
    },
    {
      "cell_type": "code",
      "execution_count": null,
      "metadata": {
        "id": "Yjv65qgfZ62h"
      },
      "outputs": [],
      "source": [
        "matches_required['TossDecision'] = (matches_required['TossDecision'] == 'bat').astype(int)"
      ]
    },
    {
      "cell_type": "code",
      "execution_count": null,
      "metadata": {
        "id": "3RKx0qsdeonD",
        "colab": {
          "base_uri": "https://localhost:8080/"
        },
        "outputId": "03a75501-bfdb-437a-90cf-2c32e15850be"
      },
      "outputs": [
        {
          "output_type": "execute_result",
          "data": {
            "text/plain": [
              "ID                   0\n",
              "City                51\n",
              "Date                 0\n",
              "Season               0\n",
              "MatchNumber          0\n",
              "Team1                0\n",
              "Team2                0\n",
              "Venue                0\n",
              "TossWinner           0\n",
              "TossDecision         0\n",
              "SuperOver            4\n",
              "WinningTeam          4\n",
              "WonBy                0\n",
              "Margin              18\n",
              "method             931\n",
              "Player_of_Match      4\n",
              "Team1Players         0\n",
              "Team2Players         0\n",
              "Umpire1              0\n",
              "Umpire2              0\n",
              "dtype: int64"
            ]
          },
          "metadata": {},
          "execution_count": 469
        }
      ],
      "source": [
        "matches_required.isnull().sum()"
      ]
    },
    {
      "cell_type": "code",
      "source": [
        "matches_required['Margin']"
      ],
      "metadata": {
        "id": "VMD-4-GArKVA",
        "colab": {
          "base_uri": "https://localhost:8080/"
        },
        "outputId": "069539dc-93f5-4897-f8ab-44e5b188edac"
      },
      "execution_count": null,
      "outputs": [
        {
          "output_type": "execute_result",
          "data": {
            "text/plain": [
              "0        7.0\n",
              "1        7.0\n",
              "2       14.0\n",
              "3        7.0\n",
              "4        5.0\n",
              "       ...  \n",
              "945      5.0\n",
              "946      5.0\n",
              "947      9.0\n",
              "948     33.0\n",
              "949    140.0\n",
              "Name: Margin, Length: 950, dtype: float64"
            ]
          },
          "metadata": {},
          "execution_count": 470
        }
      ]
    },
    {
      "cell_type": "markdown",
      "source": [
        "#Training Model - Logistic Regression"
      ],
      "metadata": {
        "id": "-wfpIA3MIYNn"
      }
    },
    {
      "cell_type": "code",
      "source": [
        "matches_required = matches_required[['Venue','TossDecision','TossWinner','Team1', 'Team2','WinningTeam']]"
      ],
      "metadata": {
        "id": "bkABbZUIXWbj"
      },
      "execution_count": null,
      "outputs": []
    },
    {
      "cell_type": "code",
      "source": [
        "matches_required.isna().sum()\n",
        "matches_required.dropna(inplace=True)"
      ],
      "metadata": {
        "colab": {
          "base_uri": "https://localhost:8080/"
        },
        "id": "2EIYQ2yv9xE3",
        "outputId": "3d60a4ad-5820-4a50-ddf7-08eb00f5b37e"
      },
      "execution_count": null,
      "outputs": [
        {
          "output_type": "stream",
          "name": "stderr",
          "text": [
            "<ipython-input-472-a3f254495a8c>:2: SettingWithCopyWarning: \n",
            "A value is trying to be set on a copy of a slice from a DataFrame\n",
            "\n",
            "See the caveats in the documentation: https://pandas.pydata.org/pandas-docs/stable/user_guide/indexing.html#returning-a-view-versus-a-copy\n",
            "  matches_required.dropna(inplace=True)\n"
          ]
        }
      ]
    },
    {
      "cell_type": "code",
      "source": [
        "matches_required.isna().sum()"
      ],
      "metadata": {
        "colab": {
          "base_uri": "https://localhost:8080/"
        },
        "id": "t9kUwFJy-F7S",
        "outputId": "dfa13450-2109-403f-f1f8-770042b7e1c4"
      },
      "execution_count": null,
      "outputs": [
        {
          "output_type": "execute_result",
          "data": {
            "text/plain": [
              "Venue           0\n",
              "TossDecision    0\n",
              "TossWinner      0\n",
              "Team1           0\n",
              "Team2           0\n",
              "WinningTeam     0\n",
              "dtype: int64"
            ]
          },
          "metadata": {},
          "execution_count": 473
        }
      ]
    },
    {
      "cell_type": "code",
      "source": [
        "final_req_data = matches_required.drop(['WinningTeam'],axis=1)\n",
        "winners = matches_required[['WinningTeam']]"
      ],
      "metadata": {
        "id": "1AQSzdcdz4qa"
      },
      "execution_count": null,
      "outputs": []
    },
    {
      "cell_type": "code",
      "source": [
        "team_names = final_req_data['Team1'].unique()\n",
        "team_features = pandas.DataFrame()\n",
        "for team in team_names:\n",
        "    team_features[f'Team_{team}'] = ((final_req_data['Team1'] == team) | (final_req_data['Team2'] == team)).astype(int)\n",
        "df_with_features = pandas.concat([final_req_data, team_features], axis=1)\n",
        "team_cod = df_with_features.drop(columns=['Team1', 'Team2'])\n",
        "team_names = team_cod['Venue'].unique()\n",
        "team_features = pandas.DataFrame()\n",
        "for team in team_names:\n",
        "    team_features[f'Venue_{team}'] = ((team_cod['Venue'] == team) | (team_cod['Venue'] == team)).astype(int)\n",
        "df_with_features = pandas.concat([team_cod, team_features], axis=1)\n",
        "team_venue_cod = df_with_features.drop(columns=['Venue'])\n",
        "\n",
        "team_names = team_venue_cod['TossWinner'].unique()\n",
        "team_features = pandas.DataFrame()\n",
        "for team in team_names:\n",
        "    team_features[f'TossWinner{team}'] = ((team_venue_cod['TossWinner'] == team) | (team_venue_cod['TossWinner'] == team)).astype(int)\n",
        "df_with_features = pandas.concat([team_venue_cod, team_features], axis=1)\n",
        "team_venue_cod = df_with_features.drop(columns=['TossWinner'])"
      ],
      "metadata": {
        "id": "QpySydJ80jYd"
      },
      "execution_count": null,
      "outputs": []
    },
    {
      "cell_type": "code",
      "source": [
        "columns = team_venue_cod.columns"
      ],
      "metadata": {
        "id": "1FNerPilBJKH"
      },
      "execution_count": null,
      "outputs": []
    },
    {
      "cell_type": "code",
      "source": [
        "columns"
      ],
      "metadata": {
        "colab": {
          "base_uri": "https://localhost:8080/"
        },
        "id": "sx8iNhEZBMLq",
        "outputId": "3c2f2ec4-da8a-4d7c-9fca-becd7be453c9"
      },
      "execution_count": null,
      "outputs": [
        {
          "output_type": "execute_result",
          "data": {
            "text/plain": [
              "Index(['TossDecision', 'Team_Rajasthan Royals',\n",
              "       'Team_Royal Challengers Bangalore', 'Team_Sunrisers Hyderabad',\n",
              "       'Team_Delhi Capitals', 'Team_Chennai Super Kings',\n",
              "       'Team_Gujarat Titans', 'Team_Lucknow Super Giants',\n",
              "       'Team_Kolkata Knight Riders', 'Team_Punjab Kings',\n",
              "       'Team_Mumbai Indians', 'Team_Rising Pune Supergiant',\n",
              "       'Team_Gujarat Lions', 'Team_Rising Pune Supergiants',\n",
              "       'Team_Pune Warriors', 'Team_Kochi Tuskers Kerala',\n",
              "       'Venue_Narendra Modi Stadium, Ahmedabad', 'Venue_Eden Gardens',\n",
              "       'Venue_Wankhede Stadium', 'Venue_Brabourne Stadium',\n",
              "       'Venue_Dr DY Patil Sports Academy',\n",
              "       'Venue_Maharashtra Cricket Association Stadium',\n",
              "       'Venue_Dubai International Cricket Stadium',\n",
              "       'Venue_Sharjah Cricket Stadium',\n",
              "       'Venue_Zayed Cricket Stadium, Abu Dhabi', 'Venue_Arun Jaitley Stadium',\n",
              "       'Venue_MA Chidambaram Stadium', 'Venue_Sheikh Zayed Stadium',\n",
              "       'Venue_Rajiv Gandhi International Stadium',\n",
              "       'Venue_Dr. Y.S. Rajasekhara Reddy ACA-VDCA Cricket Stadium',\n",
              "       'Venue_Punjab Cricket Association Stadium',\n",
              "       'Venue_M Chinnaswamy Stadium', 'Venue_Sawai Mansingh Stadium',\n",
              "       'Venue_Holkar Cricket Stadium', 'Venue_Green Park',\n",
              "       'Venue_Saurashtra Cricket Association Stadium',\n",
              "       'Venue_Shaheed Veer Narayan Singh International Stadium',\n",
              "       'Venue_JSCA International Stadium Complex',\n",
              "       'Venue_Sardar Patel Stadium, Motera', 'Venue_Barabati Stadium',\n",
              "       'Venue_Subrata Roy Sahara Stadium',\n",
              "       'Venue_Himachal Pradesh Cricket Association Stadium',\n",
              "       'Venue_Nehru Stadium',\n",
              "       'Venue_Vidarbha Cricket Association Stadium, Jamtha',\n",
              "       'Venue_New Wanderers Stadium', 'Venue_SuperSport Park',\n",
              "       'Venue_Kingsmead', 'Venue_OUTsurance Oval', 'Venue_St George's Park',\n",
              "       'Venue_De Beers Diamond Oval', 'Venue_Buffalo Park', 'Venue_Newlands',\n",
              "       'TossWinnerRajasthan Royals', 'TossWinnerLucknow Super Giants',\n",
              "       'TossWinnerGujarat Titans', 'TossWinnerSunrisers Hyderabad',\n",
              "       'TossWinnerMumbai Indians', 'TossWinnerChennai Super Kings',\n",
              "       'TossWinnerPunjab Kings', 'TossWinnerKolkata Knight Riders',\n",
              "       'TossWinnerRoyal Challengers Bangalore', 'TossWinnerDelhi Capitals',\n",
              "       'TossWinnerRising Pune Supergiant', 'TossWinnerGujarat Lions',\n",
              "       'TossWinnerRising Pune Supergiants', 'TossWinnerPune Warriors',\n",
              "       'TossWinnerKochi Tuskers Kerala'],\n",
              "      dtype='object')"
            ]
          },
          "metadata": {},
          "execution_count": 477
        }
      ]
    },
    {
      "cell_type": "code",
      "source": [
        "X_train, X_test, y_train, y_test = train_test_split(team_venue_cod,winners['WinningTeam'], train_size = 0.9,random_state=499)\n",
        "from sklearn.linear_model import LogisticRegression\n",
        "\n",
        "logistic_regression_model = LogisticRegression()\n",
        "logistic_regression_model.fit(X_train, y_train)\n",
        "y_pred = logistic_regression_model.predict(X_test)\n",
        "accuracy = accuracy_score(y_test, y_pred)\n",
        "print(accuracy)"
      ],
      "metadata": {
        "colab": {
          "base_uri": "https://localhost:8080/"
        },
        "id": "io8sLoBTra7h",
        "outputId": "9a7480eb-06f7-41c9-f7f3-57d2a0f340f6"
      },
      "execution_count": null,
      "outputs": [
        {
          "output_type": "stream",
          "name": "stdout",
          "text": [
            "0.6947368421052632\n"
          ]
        }
      ]
    },
    {
      "cell_type": "code",
      "source": [
        "datar = {col: 0 for col in team_venue_cod}\n",
        "\n",
        "\n",
        "datar[f'TossWinnerMumbai Indians'] = 1\n",
        "datar[f'TossDecision'] = 0\n",
        "datar[f'Team_Mumbai Indians'] = 1\n",
        "datar[f'Team_Kolkata Knight Riders'] = 1\n",
        "datar[f'Venue_Wankhede Stadium'] = 1\n",
        "dataf = pandas.DataFrame(datar, index=[0])"
      ],
      "metadata": {
        "id": "3mGmNd2xttFz"
      },
      "execution_count": null,
      "outputs": []
    },
    {
      "cell_type": "code",
      "source": [
        "xr = logistic_regression_model.predict_proba(dataf)"
      ],
      "metadata": {
        "id": "kCQ8aZ4_tNfF"
      },
      "execution_count": null,
      "outputs": []
    },
    {
      "cell_type": "code",
      "source": [
        "xr"
      ],
      "metadata": {
        "colab": {
          "base_uri": "https://localhost:8080/"
        },
        "id": "9rTZdGpRL2Vq",
        "outputId": "956c61f7-f63a-4ac4-e679-2b0525e1a84f"
      },
      "execution_count": null,
      "outputs": [
        {
          "output_type": "execute_result",
          "data": {
            "text/plain": [
              "array([[0.00370003, 0.00658959, 0.00423267, 0.00354471, 0.00598108,\n",
              "        0.19748101, 0.01207571, 0.72225833, 0.00107166, 0.00839355,\n",
              "        0.00637744, 0.01258971, 0.00577812, 0.00653554, 0.00339086]])"
            ]
          },
          "metadata": {},
          "execution_count": 492
        }
      ]
    },
    {
      "cell_type": "code",
      "source": [
        "x = list(winners['WinningTeam'].unique())\n",
        "x.sort()\n",
        "print(x)"
      ],
      "metadata": {
        "colab": {
          "base_uri": "https://localhost:8080/"
        },
        "id": "stuGZfHoME0R",
        "outputId": "56115847-b0ca-42e6-b21f-38e09e16728a"
      },
      "execution_count": null,
      "outputs": [
        {
          "output_type": "stream",
          "name": "stdout",
          "text": [
            "['Chennai Super Kings', 'Delhi Capitals', 'Gujarat Lions', 'Gujarat Titans', 'Kochi Tuskers Kerala', 'Kolkata Knight Riders', 'Lucknow Super Giants', 'Mumbai Indians', 'Pune Warriors', 'Punjab Kings', 'Rajasthan Royals', 'Rising Pune Supergiant', 'Rising Pune Supergiants', 'Royal Challengers Bangalore', 'Sunrisers Hyderabad']\n"
          ]
        }
      ]
    },
    {
      "cell_type": "code",
      "source": [
        "import joblib\n",
        "\n",
        "joblib.dump(logistic_regression_model, \"log_model.joblib\")\n",
        "joblib.dump(columns, \"columns.joblib\")\n",
        "joblib.dump(list(matches_required['Venue'].unique()),\"stadiums.joblib\")\n",
        "joblib.dump(list(matches_required['Team1'].unique()),\"teams.joblib\")"
      ],
      "metadata": {
        "id": "dClQajXIk4hC",
        "colab": {
          "base_uri": "https://localhost:8080/"
        },
        "outputId": "d6e30357-6fa5-442c-ec45-c1f68cbc7e28"
      },
      "execution_count": null,
      "outputs": [
        {
          "output_type": "execute_result",
          "data": {
            "text/plain": [
              "['teams.joblib']"
            ]
          },
          "metadata": {},
          "execution_count": 481
        }
      ]
    }
  ],
  "metadata": {
    "colab": {
      "provenance": []
    },
    "kernelspec": {
      "display_name": "Python 3 (ipykernel)",
      "language": "python",
      "name": "python3"
    },
    "language_info": {
      "codemirror_mode": {
        "name": "ipython",
        "version": 3
      },
      "file_extension": ".py",
      "mimetype": "text/x-python",
      "name": "python",
      "nbconvert_exporter": "python",
      "pygments_lexer": "ipython3",
      "version": "3.11.4"
    }
  },
  "nbformat": 4,
  "nbformat_minor": 0
}